{
  "nbformat": 4,
  "nbformat_minor": 0,
  "metadata": {
    "colab": {
      "provenance": [],
      "authorship_tag": "ABX9TyPvR9iH0MvwuYL9jMo9bPYd",
      "include_colab_link": true
    },
    "kernelspec": {
      "name": "python3",
      "display_name": "Python 3"
    },
    "language_info": {
      "name": "python"
    }
  },
  "cells": [
    {
      "cell_type": "markdown",
      "metadata": {
        "id": "view-in-github",
        "colab_type": "text"
      },
      "source": [
        "<a href=\"https://colab.research.google.com/github/naveenkandra8/Algorithm/blob/main/S557_A_Naveen_Gangadhara.ipynb\" target=\"_parent\"><img src=\"https://colab.research.google.com/assets/colab-badge.svg\" alt=\"Open In Colab\"/></a>"
      ]
    },
    {
      "cell_type": "code",
      "execution_count": 1,
      "metadata": {
        "id": "uXDTIF84k6XB"
      },
      "outputs": [],
      "source": [
        "def optimal_binary_search(arr, low, high, key):\n",
        "\n",
        "    if high >= low:\n",
        "\n",
        "        mid = (high + low) // 2\n",
        "\n",
        "        if arr[mid] == key:\n",
        "\n",
        "            return mid\n",
        "\n",
        "        elif arr[mid] > key:\n",
        "\n",
        "            return optimal_binary_search(arr, low, mid - 1, key)\n",
        "\n",
        "        else:\n",
        "\n",
        "            return optimal_binary_search(arr, mid + 1, high, key)\n",
        "\n",
        "    else:\n",
        "\n",
        "        return -1"
      ]
    },
    {
      "cell_type": "code",
      "source": [
        "# Test the function\n",
        "\n",
        "arr = [1, 3, 5, 7, 9, 11, 13, 15]\n",
        "\n",
        "key = 11\n",
        "\n",
        "low = 0\n",
        "\n",
        "high = len(arr) - 1\n",
        "\n",
        "\n",
        "\n",
        "index = optimal_binary_search(arr, low, high, key)\n",
        "\n",
        "\n",
        "\n",
        "if index != -1:\n",
        "\n",
        "    print(\"Element found at index\", str(index))\n",
        "\n",
        "else:\n",
        "\n",
        "    print(\"Element not found in array\")\n"
      ],
      "metadata": {
        "colab": {
          "base_uri": "https://localhost:8080/"
        },
        "id": "qJJUUCNClcBu",
        "outputId": "4d3ead0a-551b-4a51-fff8-59e449a19bab"
      },
      "execution_count": 2,
      "outputs": [
        {
          "output_type": "stream",
          "name": "stdout",
          "text": [
            "Element found at index 5\n"
          ]
        }
      ]
    }
  ]
}